{
  "cells": [
    {
      "cell_type": "markdown",
      "source": [
        "#Clone and install the dependencies"
      ],
      "metadata": {
        "id": "muWQjaFdKkos"
      }
    },
    {
      "cell_type": "code",
      "source": [
        "\n",
        "\n",
        "!git clone https://github.com/anonymous1828/Beta-Dirichlet-VAE-for-BHU.git\n",
        "%cd Beta-Dirichlet-VAE-for-BHU\n",
        "!pip install -r requirements.txt\n",
        "\n"
      ],
      "metadata": {
        "id": "8090uRTFKZaG",
        "colab": {
          "base_uri": "https://localhost:8080/"
        },
        "outputId": "21fe856e-b7b3-440b-f1b6-127a742e40f6"
      },
      "execution_count": 1,
      "outputs": [
        {
          "output_type": "stream",
          "name": "stdout",
          "text": [
            "fatal: destination path 'Beta-Dirichlet-VAE-for-BHU' already exists and is not an empty directory.\n",
            "/content/Beta-Dirichlet-VAE-for-BHU\n",
            "Requirement already satisfied: matplotlib==3.8.4 in /usr/local/lib/python3.11/dist-packages (from -r requirements.txt (line 1)) (3.8.4)\n",
            "Requirement already satisfied: numpy==1.26.4 in /usr/local/lib/python3.11/dist-packages (from -r requirements.txt (line 2)) (1.26.4)\n",
            "Requirement already satisfied: pandas==2.2.2 in /usr/local/lib/python3.11/dist-packages (from -r requirements.txt (line 3)) (2.2.2)\n",
            "Requirement already satisfied: rarfile==4.0 in /usr/local/lib/python3.11/dist-packages (from -r requirements.txt (line 4)) (4.0)\n",
            "Requirement already satisfied: scikit-learn==1.4.2 in /usr/local/lib/python3.11/dist-packages (from -r requirements.txt (line 5)) (1.4.2)\n",
            "Requirement already satisfied: scikit-image==0.23.2 in /usr/local/lib/python3.11/dist-packages (from -r requirements.txt (line 6)) (0.23.2)\n",
            "Requirement already satisfied: scipy==1.13.1 in /usr/local/lib/python3.11/dist-packages (from -r requirements.txt (line 7)) (1.13.1)\n",
            "Requirement already satisfied: spectral==0.23.1 in /usr/local/lib/python3.11/dist-packages (from -r requirements.txt (line 8)) (0.23.1)\n",
            "Requirement already satisfied: tqdm==4.66.4 in /usr/local/lib/python3.11/dist-packages (from -r requirements.txt (line 9)) (4.66.4)\n",
            "Requirement already satisfied: torch==2.4.0 in /usr/local/lib/python3.11/dist-packages (from -r requirements.txt (line 10)) (2.4.0)\n",
            "Requirement already satisfied: torchaudio==2.4.0 in /usr/local/lib/python3.11/dist-packages (from -r requirements.txt (line 11)) (2.4.0)\n",
            "Requirement already satisfied: torchvision==0.19.0 in /usr/local/lib/python3.11/dist-packages (from -r requirements.txt (line 12)) (0.19.0)\n",
            "Requirement already satisfied: contourpy>=1.0.1 in /usr/local/lib/python3.11/dist-packages (from matplotlib==3.8.4->-r requirements.txt (line 1)) (1.3.1)\n",
            "Requirement already satisfied: cycler>=0.10 in /usr/local/lib/python3.11/dist-packages (from matplotlib==3.8.4->-r requirements.txt (line 1)) (0.12.1)\n",
            "Requirement already satisfied: fonttools>=4.22.0 in /usr/local/lib/python3.11/dist-packages (from matplotlib==3.8.4->-r requirements.txt (line 1)) (4.57.0)\n",
            "Requirement already satisfied: kiwisolver>=1.3.1 in /usr/local/lib/python3.11/dist-packages (from matplotlib==3.8.4->-r requirements.txt (line 1)) (1.4.8)\n",
            "Requirement already satisfied: packaging>=20.0 in /usr/local/lib/python3.11/dist-packages (from matplotlib==3.8.4->-r requirements.txt (line 1)) (24.2)\n",
            "Requirement already satisfied: pillow>=8 in /usr/local/lib/python3.11/dist-packages (from matplotlib==3.8.4->-r requirements.txt (line 1)) (11.1.0)\n",
            "Requirement already satisfied: pyparsing>=2.3.1 in /usr/local/lib/python3.11/dist-packages (from matplotlib==3.8.4->-r requirements.txt (line 1)) (3.2.3)\n",
            "Requirement already satisfied: python-dateutil>=2.7 in /usr/local/lib/python3.11/dist-packages (from matplotlib==3.8.4->-r requirements.txt (line 1)) (2.8.2)\n",
            "Requirement already satisfied: pytz>=2020.1 in /usr/local/lib/python3.11/dist-packages (from pandas==2.2.2->-r requirements.txt (line 3)) (2025.2)\n",
            "Requirement already satisfied: tzdata>=2022.7 in /usr/local/lib/python3.11/dist-packages (from pandas==2.2.2->-r requirements.txt (line 3)) (2025.2)\n",
            "Requirement already satisfied: joblib>=1.2.0 in /usr/local/lib/python3.11/dist-packages (from scikit-learn==1.4.2->-r requirements.txt (line 5)) (1.4.2)\n",
            "Requirement already satisfied: threadpoolctl>=2.0.0 in /usr/local/lib/python3.11/dist-packages (from scikit-learn==1.4.2->-r requirements.txt (line 5)) (3.6.0)\n",
            "Requirement already satisfied: networkx>=2.8 in /usr/local/lib/python3.11/dist-packages (from scikit-image==0.23.2->-r requirements.txt (line 6)) (3.4.2)\n",
            "Requirement already satisfied: imageio>=2.33 in /usr/local/lib/python3.11/dist-packages (from scikit-image==0.23.2->-r requirements.txt (line 6)) (2.37.0)\n",
            "Requirement already satisfied: tifffile>=2022.8.12 in /usr/local/lib/python3.11/dist-packages (from scikit-image==0.23.2->-r requirements.txt (line 6)) (2025.3.30)\n",
            "Requirement already satisfied: lazy-loader>=0.4 in /usr/local/lib/python3.11/dist-packages (from scikit-image==0.23.2->-r requirements.txt (line 6)) (0.4)\n",
            "Requirement already satisfied: filelock in /usr/local/lib/python3.11/dist-packages (from torch==2.4.0->-r requirements.txt (line 10)) (3.18.0)\n",
            "Requirement already satisfied: typing-extensions>=4.8.0 in /usr/local/lib/python3.11/dist-packages (from torch==2.4.0->-r requirements.txt (line 10)) (4.13.1)\n",
            "Requirement already satisfied: sympy in /usr/local/lib/python3.11/dist-packages (from torch==2.4.0->-r requirements.txt (line 10)) (1.13.1)\n",
            "Requirement already satisfied: jinja2 in /usr/local/lib/python3.11/dist-packages (from torch==2.4.0->-r requirements.txt (line 10)) (3.1.6)\n",
            "Requirement already satisfied: fsspec in /usr/local/lib/python3.11/dist-packages (from torch==2.4.0->-r requirements.txt (line 10)) (2025.3.2)\n",
            "Requirement already satisfied: nvidia-cuda-nvrtc-cu12==12.1.105 in /usr/local/lib/python3.11/dist-packages (from torch==2.4.0->-r requirements.txt (line 10)) (12.1.105)\n",
            "Requirement already satisfied: nvidia-cuda-runtime-cu12==12.1.105 in /usr/local/lib/python3.11/dist-packages (from torch==2.4.0->-r requirements.txt (line 10)) (12.1.105)\n",
            "Requirement already satisfied: nvidia-cuda-cupti-cu12==12.1.105 in /usr/local/lib/python3.11/dist-packages (from torch==2.4.0->-r requirements.txt (line 10)) (12.1.105)\n",
            "Requirement already satisfied: nvidia-cudnn-cu12==9.1.0.70 in /usr/local/lib/python3.11/dist-packages (from torch==2.4.0->-r requirements.txt (line 10)) (9.1.0.70)\n",
            "Requirement already satisfied: nvidia-cublas-cu12==12.1.3.1 in /usr/local/lib/python3.11/dist-packages (from torch==2.4.0->-r requirements.txt (line 10)) (12.1.3.1)\n",
            "Requirement already satisfied: nvidia-cufft-cu12==11.0.2.54 in /usr/local/lib/python3.11/dist-packages (from torch==2.4.0->-r requirements.txt (line 10)) (11.0.2.54)\n",
            "Requirement already satisfied: nvidia-curand-cu12==10.3.2.106 in /usr/local/lib/python3.11/dist-packages (from torch==2.4.0->-r requirements.txt (line 10)) (10.3.2.106)\n",
            "Requirement already satisfied: nvidia-cusolver-cu12==11.4.5.107 in /usr/local/lib/python3.11/dist-packages (from torch==2.4.0->-r requirements.txt (line 10)) (11.4.5.107)\n",
            "Requirement already satisfied: nvidia-cusparse-cu12==12.1.0.106 in /usr/local/lib/python3.11/dist-packages (from torch==2.4.0->-r requirements.txt (line 10)) (12.1.0.106)\n",
            "Requirement already satisfied: nvidia-nccl-cu12==2.20.5 in /usr/local/lib/python3.11/dist-packages (from torch==2.4.0->-r requirements.txt (line 10)) (2.20.5)\n",
            "Requirement already satisfied: nvidia-nvtx-cu12==12.1.105 in /usr/local/lib/python3.11/dist-packages (from torch==2.4.0->-r requirements.txt (line 10)) (12.1.105)\n",
            "Requirement already satisfied: triton==3.0.0 in /usr/local/lib/python3.11/dist-packages (from torch==2.4.0->-r requirements.txt (line 10)) (3.0.0)\n",
            "Requirement already satisfied: nvidia-nvjitlink-cu12 in /usr/local/lib/python3.11/dist-packages (from nvidia-cusolver-cu12==11.4.5.107->torch==2.4.0->-r requirements.txt (line 10)) (12.5.82)\n",
            "Requirement already satisfied: six>=1.5 in /usr/local/lib/python3.11/dist-packages (from python-dateutil>=2.7->matplotlib==3.8.4->-r requirements.txt (line 1)) (1.17.0)\n",
            "Requirement already satisfied: MarkupSafe>=2.0 in /usr/local/lib/python3.11/dist-packages (from jinja2->torch==2.4.0->-r requirements.txt (line 10)) (3.0.2)\n",
            "Requirement already satisfied: mpmath<1.4,>=1.1.0 in /usr/local/lib/python3.11/dist-packages (from sympy->torch==2.4.0->-r requirements.txt (line 10)) (1.3.0)\n"
          ]
        }
      ]
    },
    {
      "cell_type": "markdown",
      "source": [
        "# import the necessary libraries"
      ],
      "metadata": {
        "id": "3o7nVk6OK3O4"
      }
    },
    {
      "cell_type": "code",
      "source": [
        "%cd Beta-Dirichlet-VAE-for-BHU\n",
        "import os\n",
        "from scipy.io import loadmat\n",
        "\n",
        "import torch\n",
        "import torch.nn as nn\n",
        "from   torch.utils.data import DataLoader\n",
        "\n",
        "\n",
        "import numpy as np\n",
        "import matplotlib.pyplot as plt\n",
        "from sklearn.decomposition import PCA\n",
        "\n",
        "import matplotlib.pyplot as plt\n",
        "\n",
        "from utils.data.synth_data import get_synth_dataset\n",
        "from utils.data.hsi_dataset_class import HSIDataset\n",
        "from utils.data.real_data         import get_dataset\n",
        "\n",
        "from model.dir_vae import DirVAE\n",
        "\n",
        "from utils.optimization.constraint  import NonNegConstraint\n",
        "from utils.optimization.optim_utils import get_optimizer\n",
        "\n",
        "from utils.loss.losses_utils import (\n",
        "    get_reconstruction_loss_fn,\n",
        "    get_regularization_loss_fn\n",
        ")\n",
        "\n",
        "from trainer import UnsupervisedTrainer\n",
        "from utils.metrics import get_average_accuracy_on_M, get_accuracy_on_M\n",
        "\n",
        "from utils.logs_fn import create_log_folder, log_metrics, log_figure\n"
      ],
      "metadata": {
        "colab": {
          "base_uri": "https://localhost:8080/"
        },
        "id": "ZDjkcftSK51N",
        "outputId": "33a96f9a-2264-4ae6-d130-87bea6d14b5d"
      },
      "execution_count": 2,
      "outputs": [
        {
          "output_type": "stream",
          "name": "stdout",
          "text": [
            "[Errno 2] No such file or directory: 'Beta-Dirichlet-VAE-for-BHU'\n",
            "/content/Beta-Dirichlet-VAE-for-BHU\n"
          ]
        }
      ]
    },
    {
      "cell_type": "markdown",
      "source": [
        "# Define the Losses"
      ],
      "metadata": {
        "id": "eZCPljCXLGvE"
      }
    },
    {
      "cell_type": "markdown",
      "source": [
        "## GammaKL"
      ],
      "metadata": {
        "id": "4p0d-9yBLLu3"
      }
    },
    {
      "cell_type": "code",
      "source": [
        "import numpy as np\n",
        "class GammaKL:\n",
        "    def __init__(self, alphas: torch.Tensor, reduction: str = \"mean\", mode: str = \"default\", eps: float = 1e-6):\n",
        "        if mode not in [\"default\", \"cnn\"]:\n",
        "            raise ValueError(\"mode must be 'default' or 'cnn'\")\n",
        "        self.alphas = alphas.to(dtype=torch.float32)\n",
        "        self.reduction = reduction\n",
        "        self.mode = mode\n",
        "        self.eps = eps\n",
        "\n",
        "    def to(self, device):\n",
        "        self.alphas = self.alphas.to(device)\n",
        "        return self\n",
        "\n",
        "    def __call__(self, input: torch.Tensor):\n",
        "        input = torch.clamp(input, min=self.eps, max=30.0)\n",
        "        if self.mode == \"default\":\n",
        "            batch_size = input.shape[0]\n",
        "            alphas_prior = self.alphas.expand(batch_size, -1)\n",
        "            sum_dim = -1\n",
        "        else:\n",
        "            batch_size, n_ems, H, W = input.shape\n",
        "            alphas_prior = self.alphas.view(1, n_ems, 1, 1).expand(batch_size, n_ems, H, W)\n",
        "            sum_dim = 1\n",
        "        kl = (input - alphas_prior) * torch.digamma(input + self.eps) - \\\n",
        "             torch.lgamma(input + self.eps) + torch.lgamma(alphas_prior + self.eps)\n",
        "        loss = torch.sum(kl, dim=sum_dim)\n",
        "        if self.mode == \"cnn\" and self.reduction in [\"sum\", \"mean\"]:\n",
        "            loss = torch.sum(loss, dim=[1, 2])  # Shape: (batch_size,)\n",
        "            if self.reduction == \"mean\":\n",
        "                loss = loss / (n_ems * H * W)  # Average over all elements\n",
        "        if self.reduction == \"sum\":\n",
        "            return loss.sum()\n",
        "        elif self.reduction == \"mean\":\n",
        "            return loss.mean() if self.mode == \"default\" else loss.mean()  # Already averaged for cnn\n",
        "        elif self.reduction == \"none\":\n",
        "            return loss\n",
        "        else:\n",
        "            raise ValueError(\"Reduction must be 'sum', 'mean', or 'none'\")"
      ],
      "metadata": {
        "id": "AE1bd9hMLJ4a"
      },
      "execution_count": 3,
      "outputs": []
    },
    {
      "cell_type": "markdown",
      "source": [
        "## SADLoss"
      ],
      "metadata": {
        "id": "uKksqXMYLPeS"
      }
    },
    {
      "cell_type": "code",
      "source": [
        "\n",
        "class SADLoss:\n",
        "    \"\"\"\n",
        "        Spectral Angle Distance (SAD) loss function.\n",
        "\n",
        "        Parameters\n",
        "        ----------\n",
        "        eps : avoid division by zero\n",
        "        reduction : reduction method for the loss.\n",
        "                    Options are \"sum\", \"mean\" or \"none\"\n",
        "                            (the latter returns a tensor of size (..., n_samples)).\n",
        "        mode : \"default\" for simple spectral vector as sample,\"cnn\" for patch images\n",
        "        Returns\n",
        "        -------\n",
        "        out: shape (n_batch,\n",
        "             spectral angle distance\n",
        "    \"\"\"\n",
        "    def __init__(self,\n",
        "                 reduction: str = \"mean\",\n",
        "                 eps: float = 1e-8,mode:str ='default') -> None:\n",
        "\n",
        "        self.reduction = reduction\n",
        "        self.eps       = torch.tensor(eps)\n",
        "        self.mode = mode\n",
        "\n",
        "    def __repr__(self):\n",
        "        return f\"{self.__class__.__name__}(reduction='{self.reduction}', eps={self.eps})\"\n",
        "\n",
        "    def to(self, device):\n",
        "        self.eps.to(device)\n",
        "        return self\n",
        "\n",
        "    def __call__(self, input: torch.Tensor, target: torch.Tensor) -> torch.Tensor:\n",
        "\n",
        "        if len(target.shape) < 2: target = target.unsqueeze(0)\n",
        "        if len(input.shape)  < 2: input  = input.unsqueeze(0)\n",
        "        if self.mode == 'default':  # For 1D spectral vectors (B, C)\n",
        "            target_norm = torch.norm(target, p=2, dim=1)\n",
        "            input_norm  = torch.norm(input,  p=2, dim=1)\n",
        "        else:  # For hyperspectral patches (B, C, H, W)\n",
        "            target_norm = torch.norm(target, p=2, dim=1, keepdim=True)\n",
        "            input_norm  = torch.norm(input,  p=2, dim=1, keepdim=True)\n",
        "\n",
        "        norm_factor = target_norm * input_norm\n",
        "\n",
        "        scalar_product = torch.sum(target * input, dim=1)\n",
        "\n",
        "        # eps at denominator + 1e-6 in cos for numerical stability\n",
        "        cos = scalar_product / torch.max(norm_factor, self.eps)\n",
        "        cos = torch.clamp(cos, -1 + 1e-6, 1 - 1e-6)\n",
        "\n",
        "        if   self.reduction == \"sum\":  loss = torch.acos(cos).sum()\n",
        "        elif self.reduction == \"mean\": loss = torch.acos(cos).mean()\n",
        "        elif self.reduction == \"none\": loss = torch.acos(cos)\n",
        "        else:\n",
        "            raise ValueError(\"Invalid reduction type. Must be either'sum', 'none' or 'mean'.\")\n",
        "\n",
        "        return loss\n",
        "input=torch.FloatTensor(np.ones((1,10,2,2)))\n",
        "target=torch.FloatTensor(np.ones((1,10,2,2)))\n",
        "sad=SADLoss(mode='cnn')\n",
        "print(sad(input,target))\n"
      ],
      "metadata": {
        "colab": {
          "base_uri": "https://localhost:8080/"
        },
        "id": "_gwlD2q9LRvX",
        "outputId": "68e8787b-940b-428e-d264-d9c6861702ed"
      },
      "execution_count": 4,
      "outputs": [
        {
          "output_type": "stream",
          "name": "stdout",
          "text": [
            "tensor(0.0014)\n"
          ]
        }
      ]
    },
    {
      "cell_type": "markdown",
      "source": [
        "#Cuprite Dataset\n",
        "## this data is without ground truth"
      ],
      "metadata": {
        "id": "l2rWn2CLK8TE"
      }
    },
    {
      "cell_type": "code",
      "source": [
        "import os\n",
        "import urllib.request\n",
        "\n",
        "url = \"https://www.ehu.eus/ccwintco/uploads/7/7d/Cuprite_f970619t01p02_r02_sc03.a.rfl.mat\"\n",
        "local_path = \"./Datasets/Cuprite.mat\"\n",
        "\n",
        "# Make the directory if it doesn't exist\n",
        "os.makedirs(os.path.dirname(local_path), exist_ok=True)\n",
        "\n",
        "# Download the file if not already downloaded\n",
        "if not os.path.exists(local_path):\n",
        "    urllib.request.urlretrieve(url, local_path)\n",
        "    print(\"Download completed.\")\n",
        "else:\n",
        "    print(\"File already exists.\")\n",
        "from scipy.io import loadmat\n",
        "n_ems=4\n",
        "data = loadmat(local_path)\n",
        "print(data.keys())  # See what variables are inside\n"
      ],
      "metadata": {
        "colab": {
          "base_uri": "https://localhost:8080/"
        },
        "id": "kYI6idjpLDCI",
        "outputId": "8b94262b-79ad-46ab-921f-48ecb39330b9"
      },
      "execution_count": 15,
      "outputs": [
        {
          "output_type": "stream",
          "name": "stdout",
          "text": [
            "File already exists.\n",
            "dict_keys(['__header__', '__version__', '__globals__', 'X'])\n"
          ]
        }
      ]
    },
    {
      "cell_type": "markdown",
      "source": [
        "#DirVAE\n"
      ],
      "metadata": {
        "id": "sn6vrK86LkO_"
      }
    },
    {
      "cell_type": "markdown",
      "source": [
        "## Prepare the Data (pixels x n_bands)"
      ],
      "metadata": {
        "id": "DtR31Hj7LrBQ"
      }
    },
    {
      "cell_type": "code",
      "source": [
        "Y = data['X']  # Replace 'Y' with the correct key from print(data.keys())\n",
        "Y = Y.astype('float32')\n",
        "w,h,n_bands=Y.shape\n",
        "n_samples, n_bands =w*h , n_bands\n",
        "Y = Y.reshape(-1, n_bands).astype(\"float32\")\n",
        "\n",
        "# Normalize\n",
        "Y = Y / Y.max()\n",
        "Y = np.clip(Y, a_min=0, a_max=None)  # sets negative values to 0\n",
        "dataset = HSIDataset(0,\n",
        "                     Y, None, None,\n",
        "                     n_ems, n_bands, n_samples,\n",
        "                     None, None,\n",
        "                     \"Cuprite\",\n",
        "                     data_type=\"float32\",\n",
        "                     random_seed=1234)\n",
        "from torch.utils.data import DataLoader\n",
        "\n",
        "dataloader = DataLoader(dataset, batch_size=200, shuffle=True)\n",
        "for batch in dataloader:\n",
        "    print(batch.shape)\n",
        "    print(len(dataloader))\n",
        "    break"
      ],
      "metadata": {
        "colab": {
          "base_uri": "https://localhost:8080/"
        },
        "id": "m6GEiq0OLmNj",
        "outputId": "8aca575b-b513-42dd-c0ef-d39dbe7a7c11"
      },
      "execution_count": 12,
      "outputs": [
        {
          "output_type": "stream",
          "name": "stdout",
          "text": [
            "torch.Size([200, 224])\n",
            "1572\n"
          ]
        }
      ]
    },
    {
      "cell_type": "markdown",
      "source": [
        "## Model"
      ],
      "metadata": {
        "id": "duyJ_sJbL9-m"
      }
    },
    {
      "cell_type": "code",
      "source": [
        "\n",
        "device=torch.device(\"cuda\" if torch.cuda.is_available() else \"cpu\")\n",
        "#############################################\n",
        "hidden_dims = [3 * n_ems,\n",
        "               2 * n_ems,\n",
        "               1 * n_ems,\n",
        "               1]\n",
        "\n",
        "model1 = DirVAE(n_bands                = n_bands,\n",
        "                n_ems                 = n_ems,\n",
        "                beta                  = 1.,\n",
        "                hidden_dims           = hidden_dims,\n",
        "                encoder_activation_fn = nn.LeakyReLU(),\n",
        "                encoder_batch_norm    = True\n",
        ")\n",
        "constraint = NonNegConstraint([model1.decoder[0]])\n",
        "model1.init_decoder(\"he\")\n",
        "constraint.apply()\n",
        "\n",
        "init_M1 = model1.get_endmembers().cpu()\n",
        "# parameters of targeted Dirichlet distribution\n",
        "concentration_sets = 4.0 * np.array([1.0 for i in range(n_ems)]).reshape(1,-1)\n",
        "\n",
        "rec_loss_fn = SADLoss(reduction='sum',mode='default').to(device) #get_reconstruction_loss_fn(\"sad\").to(device) #\n",
        "reg_loss_fn =GammaKL(torch.from_numpy(concentration_sets),reduction='sum').to(device)  #get_regularization_loss_fn(concentration_sets, \"gamma_div\" ).to(device)#\n",
        "optimizer_fn = get_optimizer(\"tf_rms\")\n",
        "optimizer    = optimizer_fn(model1.parameters(),\n",
        "                            1e-3,\n",
        "                            0.99)\n",
        "n_epochs = 50\n",
        "\n",
        "reg_factor = 8e-2\n",
        "\n",
        "\n",
        "trainer = UnsupervisedTrainer()\n",
        "trained_model, results = trainer.train(n_epochs,\n",
        "                                       model1,\n",
        "                                       dataloader,\n",
        "                                       optimizer,\n",
        "                                       rec_loss_fn,\n",
        "                                       reg_loss_fn,\n",
        "                                       reg_factor,\n",
        "                                       constraint,\n",
        "                                       True,\n",
        "                                       False\n",
        "                                       )"
      ],
      "metadata": {
        "colab": {
          "base_uri": "https://localhost:8080/"
        },
        "id": "UZcCRw-yL_r7",
        "outputId": "1b43f9d2-28c4-4651-f530-7c90697cb202"
      },
      "execution_count": 13,
      "outputs": [
        {
          "output_type": "stream",
          "name": "stdout",
          "text": [
            "The model will be running on cpu device.\n",
            "\n"
          ]
        },
        {
          "output_type": "stream",
          "name": "stderr",
          "text": [
            "100%|██████████| 50/50 [10:05<00:00, 12.10s/it]\n"
          ]
        }
      ]
    },
    {
      "cell_type": "code",
      "source": [
        "fig, axs = plt.subplots(1, 3, figsize=(10,2))\n",
        "\n",
        "axs[0].plot(results[\"reconstruction_loss\"])\n",
        "axs[0].set_title(\"Reconstruction loss\")\n",
        "axs[0].grid()\n",
        "\n",
        "axs[1].plot(results[\"regularization_loss\"])\n",
        "axs[1].set_title(\"Regularization loss\")\n",
        "axs[1].grid()\n",
        "\n",
        "axs[2].plot(results[\"total_loss\"])\n",
        "axs[2].set_title(\"Total loss\")\n",
        "axs[2].grid()\n",
        "\n",
        "plt.show()"
      ],
      "metadata": {
        "colab": {
          "base_uri": "https://localhost:8080/",
          "height": 237
        },
        "id": "V81M63ZEMEFx",
        "outputId": "baa646b2-8422-471b-8a86-28f2f83b3cb2"
      },
      "execution_count": 14,
      "outputs": [
        {
          "output_type": "display_data",
          "data": {
            "text/plain": [
              "<Figure size 1000x200 with 3 Axes>"
            ],
            "image/png": "[encoded data removed]"
          },
          "metadata": {}
        }
      ]
    },
    {
      "cell_type": "markdown",
      "source": [
        "# DirCNNVAE\n"
      ],
      "metadata": {
        "id": "hd6s2MvMWEU4"
      }
    },
    {
      "cell_type": "markdown",
      "source": [
        "## Prepare the Data (w x h x n_bands)\n",
        "### crop 10%x10% of the image (HxW) since the size of the data become large"
      ],
      "metadata": {
        "id": "AFM9gI7BWMwE"
      }
    },
    {
      "cell_type": "code",
      "source": [
        "\n",
        "Y = data['X']  # Replace 'Y' with the correct key from print(data.keys())\n",
        "Y = Y.astype('float32')\n",
        "h,w,n_bands=Y.shape\n",
        "Y=Y[0:int(0.1*h),0:int(0.1*w),:]\n",
        "n_samples, n_bands =int(0.1*h)*int(0.1*w) , n_bands\n",
        "Y = Y.reshape(-1, n_bands).astype(\"float32\")\n",
        "print(Y.shape)\n",
        "# Normalize\n",
        "Y = Y / Y.max()\n",
        "Y = np.clip(Y, a_min=0, a_max=None)  # sets negative values to 0\n",
        "dataset = HSIDataset(0,\n",
        "                     Y , None, None,\n",
        "                     n_ems, n_bands, n_samples,\n",
        "                     None, None,\n",
        "                     \"Cuprite\",\n",
        "                     data_type=\"float32\",\n",
        "                     random_seed=1234)\n",
        "dataset.Y=dataset.Y.reshape((int(0.1*h),int(0.1*w),n_bands))\n",
        "print(dataset.Y.shape)"
      ],
      "metadata": {
        "colab": {
          "base_uri": "https://localhost:8080/"
        },
        "id": "Ck9qFRljWJVL",
        "outputId": "ef75709b-ae01-41fc-c3b2-bc61adc71798"
      },
      "execution_count": 17,
      "outputs": [
        {
          "output_type": "stream",
          "name": "stdout",
          "text": [
            "(3111, 224)\n",
            "(51, 61, 224)\n"
          ]
        }
      ]
    },
    {
      "cell_type": "code",
      "source": [
        "import numpy as np\n",
        "import torch\n",
        "from torch.utils.data import Dataset, DataLoader\n",
        "from sklearn.feature_extraction.image import extract_patches_2d\n",
        "\n",
        "class HyperspectralPatchDataset(Dataset):\n",
        "    def __init__(self, hyperspectral_image, patch_size=(12, 12)):\n",
        "        \"\"\"\n",
        "        Args:\n",
        "            hyperspectral_image: numpy array of shape (H, W, C)  [Height, Width, Spectral Bands]\n",
        "            patch_size: tuple (patch_height, patch_width)\n",
        "        \"\"\"\n",
        "        self.H, self.W, self.C = hyperspectral_image.shape  # (50, 80, C)\n",
        "        self.patch_size = patch_size\n",
        "\n",
        "        # Extract patches for each spectral band separately\n",
        "        patches_list = [extract_patches_2d(hyperspectral_image[:, :, band], patch_size) for band in range(self.C)]\n",
        "\n",
        "        # Stack along last axis -> (num_patches, 20, 20, C)\n",
        "        self.patches = np.stack(patches_list, axis=-1)\n",
        "\n",
        "    def __len__(self):\n",
        "        return self.patches.shape[0]  # Number of patches\n",
        "\n",
        "    def __getitem__(self, idx):\n",
        "        patch = self.patches[idx]  # Shape: (20, 20, C)\n",
        "        patch = torch.tensor(patch, dtype=torch.float32)  # Convert to PyTorch tensor\n",
        "        patch = patch.permute(2, 0, 1)  # Change shape from (20, 20, C) → (C, 20, 20)\n",
        "        return patch\n",
        "\n",
        "# Load dataset\n",
        "dataset = HyperspectralPatchDataset(dataset.Y)  # dataset.Y has shape (50, 80, n_bands)\n",
        "\n",
        "# Create DataLoader\n",
        "dataloader = DataLoader(dataset, batch_size=32, shuffle=True)\n",
        "\n",
        "\n"
      ],
      "metadata": {
        "id": "IGrPH5UJWjhG"
      },
      "execution_count": 18,
      "outputs": []
    },
    {
      "cell_type": "markdown",
      "source": [
        "##Model\n"
      ],
      "metadata": {
        "id": "aFt_8nJlW6c_"
      }
    },
    {
      "cell_type": "code",
      "source": [
        "import torch\n",
        "import torch.nn as nn\n",
        "\n",
        "import numpy as np\n",
        "\n",
        "from pprint import pprint\n",
        "\n",
        "\n",
        "import torch\n",
        "import torch.nn as nn\n",
        "\n",
        "from abc import ABC, abstractmethod\n",
        "\n",
        "class BaseVAE(nn.Module, ABC):\n",
        "    \"\"\"\n",
        "        Skeleton for VAE-based architectures.\n",
        "    \"\"\"\n",
        "    def __init__(self,\n",
        "                 n_bands: int,\n",
        "                 n_ems:   int):\n",
        "        super().__init__()\n",
        "\n",
        "        self.n_bands = n_bands\n",
        "        self.n_ems   = n_ems\n",
        "\n",
        "    @abstractmethod\n",
        "    def _build_encoder(self) -> nn.Module:\n",
        "        raise NotImplementedError(\"Subclasses must implement this method\")\n",
        "\n",
        "    @abstractmethod\n",
        "    def _build_decoder(self) -> nn.Module:\n",
        "        raise NotImplementedError(\"Subclasses must implement this method\")\n",
        "\n",
        "    @abstractmethod\n",
        "    def reparameterize(self, distribution_moment: torch.Tensor) -> torch.Tensor:\n",
        "        raise NotImplementedError\n",
        "\n",
        "    @abstractmethod\n",
        "    def process_latent(self, input: torch.Tensor):\n",
        "        raise NotImplementedError\n",
        "\n",
        "    @abstractmethod\n",
        "    def forward(self, input: torch.Tensor) -> tuple[torch.Tensor, ...]:\n",
        "        raise NotImplementedError\n",
        "\n",
        "\n",
        "class DirCNNVAE(BaseVAE):\n",
        "    r\"\"\"\n",
        "        Dirichlet CNN VAE based on \"Dirichlet Variational Autoencoder\"\n",
        "        by Weonyoung Joo, Wonsung Lee, Sungrae Park & Il-Chul Moon\n",
        "\n",
        "        Theorem for reparameterization stating that\n",
        "            if (X_k)_{k=1}^K \\sim gamma(\\alpha_k, \\beta_k) i.i.d\n",
        "            then if Y = (Y_1, ..., Y_K) such that \\forall k\n",
        "            where\n",
        "\n",
        "        Sampling in the latent space:\n",
        "            1) The encoder outputs the moments\n",
        "            2) we sample\n",
        "            3) we term-wise normalize by the sum\n",
        "\n",
        "        Reparameterization trick applied on a random variable\n",
        "        v \\sim multigamma(\\alpha, \\beta \\mathbb{1}_K) based\n",
        "        thanks to an approximation of the inverse-CDF.\n",
        "    \"\"\"\n",
        "    def __init__(self,\n",
        "                 n_bands: int,\n",
        "                 n_ems: int,\n",
        "                 beta: float,\n",
        "                 patch_size: int = 12,\n",
        "                 encoder_activation_fn: callable = nn.LeakyReLU(),\n",
        "                 encoder_batch_norm: bool = False):\n",
        "\n",
        "        super().__init__(n_bands, n_ems)\n",
        "\n",
        "        # beta = 1 so 1 / beta = 1\n",
        "\n",
        "        self.patch_size=patch_size\n",
        "        self.one_over_beta = torch.ones((n_ems,patch_size,patch_size))\n",
        "        self.encoder_batch_norm    = encoder_batch_norm\n",
        "        self.encoder_activation_fn = encoder_activation_fn\n",
        "\n",
        "        self.encoder = self._build_encoder(encoder_activation_fn)\n",
        "        self.decoder = self._build_decoder()\n",
        "\n",
        "    def _build_encoder(self, encoder_activation_fn):\n",
        "        layers = [\n",
        "            #nn.Conv2d(self.n_bands, 48, kernel_size=3,padding=1, padding_mode=\"reflect\", bias=False),\n",
        "            nn.Conv2d(self.n_bands, 128, kernel_size=3, padding_mode=\"reflect\", bias=False), # patch+1\n",
        "            encoder_activation_fn,\n",
        "            nn.BatchNorm2d(128),\n",
        "\n",
        "            nn.Conv2d(128, 64, kernel_size=3, padding_mode=\"reflect\", bias=False), # patch+1\n",
        "            encoder_activation_fn,\n",
        "            nn.BatchNorm2d(64),\n",
        "\n",
        "            nn.Conv2d(64, self.n_ems, kernel_size=1, bias=False),\n",
        "            encoder_activation_fn,\n",
        "            nn.BatchNorm2d(self.n_ems),\n",
        "            nn.Softplus()  # Add Softplus correctly\n",
        "        ]\n",
        "        return nn.Sequential(*layers)\n",
        "\n",
        "\n",
        "    def _build_decoder(self):\n",
        "        decoder = nn.Conv2d(\n",
        "            self.n_ems,\n",
        "            self.n_bands,\n",
        "            kernel_size=1,\n",
        "            padding=2,\n",
        "            padding_mode=\"reflect\",\n",
        "            bias=False,\n",
        "        )\n",
        "        decoder.weight.data.clamp_(min=0.0)\n",
        "        return decoder\n",
        "\n",
        "\n",
        "    def process_latent(self, alphas: torch.Tensor, eps=1e-6) -> torch.Tensor:\n",
        "        r\"\"\"\n",
        "            Input\n",
        "            - alpha: params of the dircihlet distrib\n",
        "            z_latent \\sim Dir(\\alpha)\n",
        "        \"\"\"\n",
        "        v_latent = self.reparameterize(alphas)\n",
        "        sum_v = torch.sum(v_latent, dim=1, keepdim=True)\n",
        "        z_latent = v_latent / (sum_v + 1e-8)\n",
        "\n",
        "        return z_latent\n",
        "\n",
        "\n",
        "    def reparameterize(self, alphas: torch.Tensor) -> torch.Tensor:\n",
        "        r\"\"\"\n",
        "            - u \\sim U(0,1)\n",
        "            - v \\sim multigamma(\\alpha, \\beta \\mathbb{1}_K)\n",
        "\n",
        "            inverse CDF of the multigamma distribution is\n",
        "            v = CDF^{-1}(u ; \\alpha, \\beta \\mathbb{1}_K) =\n",
        "                          \\beta^{-1}(u * \\alpha * \\Gamma(\\alpha))^{1/\\alpha}\n",
        "        \"\"\"\n",
        "        u = torch.rand_like(alphas)\n",
        "\n",
        "        clamped_alphas = torch.clamp(alphas, max=30) # clamped to avoid NaNs\n",
        "\n",
        "        int1 = 1 / torch.max(clamped_alphas, 1e-8 * torch.ones_like(clamped_alphas))\n",
        "        int2 = clamped_alphas.lgamma()\n",
        "        int3 = int2.exp()\n",
        "        int4 = int3 * u + 1e-12 # 1e-12 to avoid NaNs\n",
        "        self.one_over_beta= torch.ones_like(u)\n",
        "\n",
        "        v_latent = self.one_over_beta * (int4 * clamped_alphas) ** int1\n",
        "\n",
        "        return v_latent\n",
        "\n",
        "\n",
        "\n",
        "\n",
        "    def get_endmembers(self,\n",
        "                       layer_idx: int = -1):\n",
        "        \"\"\"\n",
        "            Endmembers are the last layer of the decoders in Palsson AE\n",
        "        \"\"\"\n",
        "        with torch.no_grad():\n",
        "            ems_tensor =  self.decoder.weight.data.mean((2, 3)).detach()\n",
        "        return ems_tensor\n",
        "\n",
        "\n",
        "    def to(self, device):\n",
        "        \"\"\"\n",
        "        Moves the model and its associated buffers to a specified device.\n",
        "\n",
        "        Parameters:\n",
        "        - device (torch.device): The device to move the model to. This can be a CPU or a GPU.\n",
        "\n",
        "        Returns:\n",
        "        - self (DirCNNVAE): The model instance after moving to the specified device.\n",
        "        \"\"\"\n",
        "\n",
        "        super().to(device)\n",
        "        #self.one_over_beta = self.one_over_beta.to(device)\n",
        "        return self\n",
        "\n",
        "\n",
        "\n",
        "    def forward(self, input: torch.Tensor) -> tuple[torch.Tensor, ...]:\n",
        "        if input.ndim == 1: input = input.unsqueeze(0)\n",
        "\n",
        "        alphas   = self.encoder(input)\n",
        "        z_latent = self.process_latent(alphas)\n",
        "        output   = self.decoder(z_latent)\n",
        "\n",
        "        return output, z_latent, alphas\n",
        "\n",
        "\n",
        "if __name__ == \"__main__\":\n",
        "\n",
        "    #from torchinfo import summary\n",
        "\n",
        "    model = DirCNNVAE(n_bands=10, n_ems=3, beta=1.0 ,patch_size=12)\n",
        "    input = torch.randn(1,10,12,12)\n",
        "    output,z_latent,alphas=model(input)\n",
        "    print(f\"Output shape: {output.shape}\")\n",
        "    print(f\"z_latent shape: {z_latent.shape}\")\n",
        "    print(f\"Alphas shape: {alphas.shape}\")\n",
        "    print(z_latent[0,:,0,0])\n",
        "    print(output[0,:,0,0])\n",
        "    ems=model.get_endmembers()\n",
        "\n"
      ],
      "metadata": {
        "colab": {
          "base_uri": "https://localhost:8080/"
        },
        "id": "J7SbrVN4W93u",
        "outputId": "93b8cf8f-543e-435e-8dd4-a1dafc675d3f"
      },
      "execution_count": 19,
      "outputs": [
        {
          "output_type": "stream",
          "name": "stdout",
          "text": [
            "Output shape: torch.Size([1, 10, 12, 12])\n",
            "z_latent shape: torch.Size([1, 3, 8, 8])\n",
            "Alphas shape: torch.Size([1, 3, 8, 8])\n",
            "tensor([0.3442, 0.6109, 0.0448], grad_fn=<SelectBackward0>)\n",
            "tensor([0.2588, 0.0623, 0.2764, 0.2861, 0.0057, 0.2254, 0.0902, 0.0070, 0.3108,\n",
            "        0.0831], grad_fn=<SelectBackward0>)\n"
          ]
        }
      ]
    },
    {
      "cell_type": "code",
      "source": [
        "#from model.dir_cnn_vae import DirCNNVAE\n",
        "\n",
        "model = DirCNNVAE(n_bands                = n_bands,\n",
        "                n_ems                 = n_ems,\n",
        "                beta                  = 1.,\n",
        "                patch_size=12,\n",
        "                encoder_activation_fn = nn.LeakyReLU(),\n",
        "                encoder_batch_norm    = True\n",
        ")"
      ],
      "metadata": {
        "id": "3R6A5ioPXCyy"
      },
      "execution_count": 20,
      "outputs": []
    },
    {
      "cell_type": "code",
      "source": [
        "import torch\n",
        "import torch.nn as nn\n",
        "# parameters of targeted Dirichlet distribution\n",
        "concentration_sets = 4.0 * np.array([1.0 for i in range(n_ems)]).reshape(1,-1)\n",
        "device='cuda' if torch.cuda.is_available() else 'cpu'\n",
        "rec_loss_fn = SADLoss(mode='cnn',reduction='mean').to(device)#nn.MSELoss(reduction='mean').to(device) g\n",
        "reg_loss_fn = GammaKL(torch.from_numpy(concentration_sets),mode='cnn',reduction='mean').to(device) #get_regularization_loss_fn(concentration_sets,loss_name= \"gamma_div\" ,mode='cnn').to(device)\n",
        "optimizer_fn = get_optimizer(\"tf_rms\")\n",
        "optimizer    = optimizer_fn(model.parameters(),\n",
        "                            0.05,\n",
        "                            0.99)\n",
        "n_epochs = 50\n",
        "reg_factor =0.4\n",
        "trainer = UnsupervisedTrainer()\n",
        "\n"
      ],
      "metadata": {
        "id": "-XGVleHXXFQW"
      },
      "execution_count": 21,
      "outputs": []
    },
    {
      "cell_type": "code",
      "source": [
        "total_loss, total_rec_loss, total_reg_loss = [], [], []\n",
        "for epoch in range(n_epochs):\n",
        "    total_rec_loss_patch, total_reg_loss_patch,total_loss_patch = 0., 0., 0.\n",
        "    for batch in dataloader:\n",
        "        batch = batch.to(device)\n",
        "        output, z_latent, alphas = model(batch)\n",
        "\n",
        "        rec_loss = rec_loss_fn(output, batch)\n",
        "        reg_loss = reg_loss_fn(alphas)\n",
        "\n",
        "        loss = rec_loss + reg_factor * reg_loss\n",
        "\n",
        "\n",
        "        loss.backward()\n",
        "        optimizer.step()\n",
        "\n",
        "        # Enforce non-negativity constraint on decoder weights\n",
        "        with torch.no_grad():\n",
        "            model.decoder.weight.data.clamp_(min=0.0)\n",
        "\n",
        "        optimizer.zero_grad()\n",
        "\n",
        "        total_rec_loss_patch += rec_loss.item()\n",
        "        total_reg_loss_patch += reg_loss.item()\n",
        "        total_loss_patch += loss.item()\n",
        "\n",
        "    total_loss.append(total_loss_patch / len(dataloader))\n",
        "    total_rec_loss.append(total_rec_loss_patch / len(dataloader))\n",
        "    total_reg_loss.append(total_reg_loss_patch / len(dataloader))\n",
        "\n",
        "    print(f\"Epoch {epoch}: Rec Loss = {total_rec_loss_patch / len(dataloader):.4f}, \"\n",
        "          f\"Reg Loss = {total_reg_loss_patch / len(dataloader):.4f}\")"
      ],
      "metadata": {
        "colab": {
          "base_uri": "https://localhost:8080/"
        },
        "id": "8S9UhTr7XI4V",
        "outputId": "ec432232-dd10-4221-c110-67126b59b3a6"
      },
      "execution_count": 22,
      "outputs": [
        {
          "output_type": "stream",
          "name": "stdout",
          "text": [
            "Epoch 0: Rec Loss = 0.3619, Reg Loss = 2.5898\n",
            "Epoch 1: Rec Loss = 0.3426, Reg Loss = 1.3664\n",
            "Epoch 2: Rec Loss = 0.3317, Reg Loss = 0.8638\n",
            "Epoch 3: Rec Loss = 0.3217, Reg Loss = 0.5894\n",
            "Epoch 4: Rec Loss = 0.3126, Reg Loss = 0.4212\n",
            "Epoch 5: Rec Loss = 0.3041, Reg Loss = 0.3105\n",
            "Epoch 6: Rec Loss = 0.2963, Reg Loss = 0.2341\n",
            "Epoch 7: Rec Loss = 0.2891, Reg Loss = 0.1795\n",
            "Epoch 8: Rec Loss = 0.2824, Reg Loss = 0.1394\n",
            "Epoch 9: Rec Loss = 0.2763, Reg Loss = 0.1095\n",
            "Epoch 10: Rec Loss = 0.2706, Reg Loss = 0.0867\n",
            "Epoch 11: Rec Loss = 0.2654, Reg Loss = 0.0691\n",
            "Epoch 12: Rec Loss = 0.2606, Reg Loss = 0.0555\n",
            "Epoch 13: Rec Loss = 0.2562, Reg Loss = 0.0447\n",
            "Epoch 14: Rec Loss = 0.2520, Reg Loss = 0.0362\n",
            "Epoch 15: Rec Loss = 0.2482, Reg Loss = 0.0294\n",
            "Epoch 16: Rec Loss = 0.2447, Reg Loss = 0.0240\n",
            "Epoch 17: Rec Loss = 0.2415, Reg Loss = 0.0196\n",
            "Epoch 18: Rec Loss = 0.2386, Reg Loss = 0.0161\n",
            "Epoch 19: Rec Loss = 0.2358, Reg Loss = 0.0132\n",
            "Epoch 20: Rec Loss = 0.2332, Reg Loss = 0.0109\n",
            "Epoch 21: Rec Loss = 0.2308, Reg Loss = 0.0090\n",
            "Epoch 22: Rec Loss = 0.2287, Reg Loss = 0.0074\n",
            "Epoch 23: Rec Loss = 0.2266, Reg Loss = 0.0061\n",
            "Epoch 24: Rec Loss = 0.2248, Reg Loss = 0.0051\n",
            "Epoch 25: Rec Loss = 0.2230, Reg Loss = 0.0042\n",
            "Epoch 26: Rec Loss = 0.2214, Reg Loss = 0.0035\n",
            "Epoch 27: Rec Loss = 0.2199, Reg Loss = 0.0029\n",
            "Epoch 28: Rec Loss = 0.2185, Reg Loss = 0.0024\n",
            "Epoch 29: Rec Loss = 0.2173, Reg Loss = 0.0020\n",
            "Epoch 30: Rec Loss = 0.2161, Reg Loss = 0.0016\n",
            "Epoch 31: Rec Loss = 0.2149, Reg Loss = 0.0014\n",
            "Epoch 32: Rec Loss = 0.2140, Reg Loss = 0.0011\n",
            "Epoch 33: Rec Loss = 0.2129, Reg Loss = 0.0009\n",
            "Epoch 34: Rec Loss = 0.2121, Reg Loss = 0.0008\n",
            "Epoch 35: Rec Loss = 0.2112, Reg Loss = 0.0007\n",
            "Epoch 36: Rec Loss = 0.2104, Reg Loss = 0.0006\n",
            "Epoch 37: Rec Loss = 0.2097, Reg Loss = 0.0005\n",
            "Epoch 38: Rec Loss = 0.2091, Reg Loss = 0.0004\n",
            "Epoch 39: Rec Loss = 0.2085, Reg Loss = 0.0003\n",
            "Epoch 40: Rec Loss = 0.2079, Reg Loss = 0.0003\n",
            "Epoch 41: Rec Loss = 0.2074, Reg Loss = 0.0002\n",
            "Epoch 42: Rec Loss = 0.2069, Reg Loss = 0.0002\n",
            "Epoch 43: Rec Loss = 0.2064, Reg Loss = 0.0002\n",
            "Epoch 44: Rec Loss = 0.2060, Reg Loss = 0.0001\n",
            "Epoch 45: Rec Loss = 0.2056, Reg Loss = 0.0001\n",
            "Epoch 46: Rec Loss = 0.2052, Reg Loss = 0.0001\n",
            "Epoch 47: Rec Loss = 0.2049, Reg Loss = 0.0001\n",
            "Epoch 48: Rec Loss = 0.2045, Reg Loss = 0.0001\n",
            "Epoch 49: Rec Loss = 0.2042, Reg Loss = 0.0001\n"
          ]
        }
      ]
    },
    {
      "cell_type": "code",
      "source": [
        "results={}\n",
        "results['reconstruction_loss']=total_rec_loss\n",
        "results['regularization_loss']=total_reg_loss\n",
        "results['total_loss']=total_loss\n",
        "fig, axs = plt.subplots(1, 3, figsize=(10,2))\n",
        "\n",
        "axs[0].plot(results[\"reconstruction_loss\"])\n",
        "axs[0].set_title(\"Reconstruction loss\")\n",
        "axs[0].grid()\n",
        "\n",
        "axs[1].plot(results[\"regularization_loss\"])\n",
        "axs[1].set_title(\"Regularization loss\")\n",
        "axs[1].grid()\n",
        "\n",
        "axs[2].plot(results[\"total_loss\"])\n",
        "axs[2].set_title(\"Total loss\")\n",
        "\n",
        "axs[2].grid()\n",
        "\n",
        "plt.show()"
      ],
      "metadata": {
        "colab": {
          "base_uri": "https://localhost:8080/",
          "height": 237
        },
        "id": "0UpJkDIJXLdr",
        "outputId": "429ec1bd-7c7a-47e4-83d9-9385f498c88d"
      },
      "execution_count": 23,
      "outputs": [
        {
          "output_type": "display_data",
          "data": {
            "text/plain": [
              "<Figure size 1000x200 with 3 Axes>"
            ],
            "image/png": "[encoded data removed]"
          },
          "metadata": {}
        }
      ]
    }
  ],
  "metadata": {
    "colab": {
      "toc_visible": true,
      "provenance": [],
      "collapsed_sections": [
        "muWQjaFdKkos",
        "3o7nVk6OK3O4",
        "eZCPljCXLGvE",
        "sn6vrK86LkO_"
      ]
    },
    "kernelspec": {
      "display_name": "Python 3",
      "name": "python3"
    }
  },
  "nbformat": 4,
  "nbformat_minor": 0
}